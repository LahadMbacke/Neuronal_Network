{
 "cells": [
  {
   "cell_type": "code",
   "execution_count": 1,
   "id": "ea261fcd",
   "metadata": {},
   "outputs": [],
   "source": [
    "import numpy as np\n",
    "import matplotlib.pyplot as plt\n",
    "from sklearn.datasets import make_blobs\n"
   ]
  },
  {
   "cell_type": "code",
   "execution_count": 2,
   "id": "1b66a19f",
   "metadata": {},
   "outputs": [],
   "source": [
    "X,y = make_blobs(n_samples=100,n_features=2,centers=2,random_state=0)\n",
    "y = y.reshape((y.shape[0], 1))\n"
   ]
  },
  {
   "cell_type": "code",
   "execution_count": 3,
   "id": "f9cd074d",
   "metadata": {},
   "outputs": [
    {
     "name": "stdout",
     "output_type": "stream",
     "text": [
      "(100, 2)\n",
      "(100, 1)\n"
     ]
    }
   ],
   "source": [
    "print(X.shape)\n",
    "print(y.shape)"
   ]
  },
  {
   "cell_type": "code",
   "execution_count": 4,
   "id": "09e94f4e",
   "metadata": {},
   "outputs": [
    {
     "data": {
      "image/png": "[encoded data removed]",
      "text/plain": [
       "<Figure size 432x288 with 1 Axes>"
      ]
     },
     "metadata": {
      "needs_background": "light"
     },
     "output_type": "display_data"
    }
   ],
   "source": [
    "plt.scatter(X[:,0],X[:,1],c=y,cmap = \"summer\")\n",
    "plt.show()"
   ]
  },
  {
   "cell_type": "code",
   "execution_count": 5,
   "id": "a1d232b1",
   "metadata": {},
   "outputs": [],
   "source": [
    "#Initialisation\n",
    "def init(X):\n",
    "    W = np.random.randn(X.shape[1],1)\n",
    "    b = np.random.randn(1)\n",
    "    return (W,b)"
   ]
  },
  {
   "cell_type": "code",
   "execution_count": 6,
   "id": "5b1f4212",
   "metadata": {},
   "outputs": [],
   "source": [
    "#Le model\n",
    "\"\"\"\n",
    "def model(X,W,b):\n",
    "    Z = X.dot(W)+b\n",
    "    A = 1/(1 + np.exp(-Z))\n",
    "    return A\n",
    "\"\"\"\n",
    "\n",
    "def model(X, W, b):\n",
    "    Z = X.dot(W) + b\n",
    "    A = 1 / (1 + np.exp(-Z))\n",
    "    return A"
   ]
  },
  {
   "cell_type": "code",
   "execution_count": 7,
   "id": "779a5ecf",
   "metadata": {},
   "outputs": [],
   "source": [
    "#Fonction cout\n",
    "def cout(A,y):\n",
    "    #return 1/len(y) * np.sum(-y * np.log(A) - (1 - y) * np.log(1 - A))\n",
    "    return 1 / len(y) * np.sum(-y * np.log(A) - (1 - y) * np.log(1 - A))\n"
   ]
  },
  {
   "cell_type": "code",
   "execution_count": 8,
   "id": "9298b5f5",
   "metadata": {},
   "outputs": [],
   "source": [
    "#Descent Gradient\n",
    "def desc_grad(X,A,y):\n",
    "    dw = 1/len(y) * np.dot(X.T, A - y)\n",
    "    db = 1/len(y) * np.sum(A - y)\n",
    "    return (dw,db)"
   ]
  },
  {
   "cell_type": "code",
   "execution_count": 9,
   "id": "d049cadb",
   "metadata": {},
   "outputs": [],
   "source": [
    "#Mis a jjour les poids\n",
    "def update(W,b,dw,db,learning_rate):\n",
    "    W = W - learning_rate * dw\n",
    "    b = b - learning_rate * db\n",
    "    return (W,b)"
   ]
  },
  {
   "cell_type": "code",
   "execution_count": 10,
   "id": "85bd9f9f",
   "metadata": {},
   "outputs": [],
   "source": [
    "# Construisons le Reseaux de neurones\n",
    "def fonc_neurone(X,y,learning_rate = 0.1,epoche = 100):\n",
    "    #Initialisation des poids W et biais b\n",
    "    w,b = init(X)\n",
    "    \n",
    "    loss = []\n",
    "    # on fait l'entrainement du model\n",
    "    for i in range(epoche):\n",
    "        A = model(X,w,b)\n",
    "        loss.append(cout(A,y))\n",
    "        dw,db = desc_grad(X,A,y)\n",
    "        w,b = update(w,b,dw,db,learning_rate)\n",
    "    plt.plot(loss)\n",
    "    plt.show"
   ]
  },
  {
   "cell_type": "code",
   "execution_count": 11,
   "id": "2985ad1c",
   "metadata": {},
   "outputs": [
    {
     "data": {
      "image/png": "[encoded data removed]",
      "text/plain": [
       "<Figure size 432x288 with 1 Axes>"
      ]
     },
     "metadata": {
      "needs_background": "light"
     },
     "output_type": "display_data"
    }
   ],
   "source": [
    "fonc_neurone(X,y)"
   ]
  },
  {
   "cell_type": "code",
   "execution_count": null,
   "id": "a42102af",
   "metadata": {},
   "outputs": [],
   "source": []
  },
  {
   "cell_type": "code",
   "execution_count": null,
   "id": "c4bac16e",
   "metadata": {},
   "outputs": [],
   "source": []
  },
  {
   "cell_type": "code",
   "execution_count": null,
   "id": "7422a9bd",
   "metadata": {},
   "outputs": [],
   "source": []
  }
 ],
 "metadata": {
  "kernelspec": {
   "display_name": "Python 3 (ipykernel)",
   "language": "python",
   "name": "python3"
  },
  "language_info": {
   "codemirror_mode": {
    "name": "ipython",
    "version": 3
   },
   "file_extension": ".py",
   "mimetype": "text/x-python",
   "name": "python",
   "nbconvert_exporter": "python",
   "pygments_lexer": "ipython3",
   "version": "3.10.6"
  }
 },
 "nbformat": 4,
 "nbformat_minor": 5
}
